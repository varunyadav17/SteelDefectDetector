{
  "nbformat": 4,
  "nbformat_minor": 0,
  "metadata": {
    "colab": {
      "name": "SteelDefectionTest.ipynb",
      "provenance": [],
      "collapsed_sections": []
    },
    "kernelspec": {
      "name": "python3",
      "display_name": "Python 3"
    }
  },
  "cells": [
    {
      "cell_type": "code",
      "metadata": {
        "id": "Dkt1anC8q_b2",
        "colab_type": "code",
        "outputId": "bdb318d6-ff6c-49e4-9fb2-7c04b5a91ad2",
        "colab": {
          "base_uri": "https://localhost:8080/",
          "height": 264
        }
      },
      "source": [
        "!pip install kaggle\n",
        "import os\n",
        "import json\n",
        "import gc\n",
        "from zipfile import ZipFile\n",
        "\n",
        "import cv2\n",
        "import keras\n",
        "import numpy as np\n",
        "import pandas as pd\n",
        "\n",
        "from sklearn.model_selection import train_test_split\n",
        "\n",
        "from keras import backend as K\n",
        "from keras.layers import Input\n",
        "from keras.layers.convolutional import Conv2D, Conv2DTranspose\n",
        "from keras.layers.merge import concatenate\n",
        "from keras.layers.pooling import MaxPooling2D\n",
        "\n",
        "from keras.models import Model\n",
        "\n",
        "from keras.callbacks import ModelCheckpoint\n",
        "\n",
        "from keras.preprocessing.image import ImageDataGenerator\n",
        "\n",
        "pd.set_option('display.max_columns', None)"
      ],
      "execution_count": 1,
      "outputs": [
        {
          "output_type": "stream",
          "text": [
            "Requirement already satisfied: kaggle in /usr/local/lib/python3.6/dist-packages (1.5.6)\n",
            "Requirement already satisfied: python-dateutil in /usr/local/lib/python3.6/dist-packages (from kaggle) (2.6.1)\n",
            "Requirement already satisfied: tqdm in /usr/local/lib/python3.6/dist-packages (from kaggle) (4.28.1)\n",
            "Requirement already satisfied: requests in /usr/local/lib/python3.6/dist-packages (from kaggle) (2.21.0)\n",
            "Requirement already satisfied: python-slugify in /usr/local/lib/python3.6/dist-packages (from kaggle) (4.0.0)\n",
            "Requirement already satisfied: urllib3<1.25,>=1.21.1 in /usr/local/lib/python3.6/dist-packages (from kaggle) (1.24.3)\n",
            "Requirement already satisfied: six>=1.10 in /usr/local/lib/python3.6/dist-packages (from kaggle) (1.12.0)\n",
            "Requirement already satisfied: certifi in /usr/local/lib/python3.6/dist-packages (from kaggle) (2019.9.11)\n",
            "Requirement already satisfied: idna<2.9,>=2.5 in /usr/local/lib/python3.6/dist-packages (from requests->kaggle) (2.8)\n",
            "Requirement already satisfied: chardet<3.1.0,>=3.0.2 in /usr/local/lib/python3.6/dist-packages (from requests->kaggle) (3.0.4)\n",
            "Requirement already satisfied: text-unidecode>=1.3 in /usr/local/lib/python3.6/dist-packages (from python-slugify->kaggle) (1.3)\n"
          ],
          "name": "stdout"
        },
        {
          "output_type": "stream",
          "text": [
            "Using TensorFlow backend.\n"
          ],
          "name": "stderr"
        },
        {
          "output_type": "display_data",
          "data": {
            "text/html": [
              "<p style=\"color: red;\">\n",
              "The default version of TensorFlow in Colab will soon switch to TensorFlow 2.x.<br>\n",
              "We recommend you <a href=\"https://www.tensorflow.org/guide/migrate\" target=\"_blank\">upgrade</a> now \n",
              "or ensure your notebook will continue to use TensorFlow 1.x via the <code>%tensorflow_version 1.x</code> magic:\n",
              "<a href=\"https://colab.research.google.com/notebooks/tensorflow_version.ipynb\" target=\"_blank\">more info</a>.</p>\n"
            ],
            "text/plain": [
              "<IPython.core.display.HTML object>"
            ]
          },
          "metadata": {
            "tags": []
          }
        }
      ]
    },
    {
      "cell_type": "code",
      "metadata": {
        "id": "1JjdjYp4NfRD",
        "colab_type": "code",
        "outputId": "080a465d-5504-4583-99a1-16134156b67b",
        "colab": {
          "base_uri": "https://localhost:8080/",
          "height": 202
        }
      },
      "source": [
        "os.environ['KAGGLE_USERNAME'] = \"varunyadav17\"\n",
        "os.environ['KAGGLE_KEY'] = \"2073c7a8d526d9d351df6f8f499e6080\"\n",
        "!kaggle competitions download -c severstal-steel-defect-detection"
      ],
      "execution_count": 2,
      "outputs": [
        {
          "output_type": "stream",
          "text": [
            "Warning: Looks like you're using an outdated API Version, please consider updating (server 1.5.6 / client 1.5.4)\n",
            "Downloading train.csv.zip to /content\n",
            "\r  0% 0.00/6.91M [00:00<?, ?B/s]\n",
            "\r100% 6.91M/6.91M [00:00<00:00, 63.4MB/s]\n",
            "sample_submission.csv: Skipping, found more recently modified local copy (use --force to force download)\n",
            "Downloading train_images.zip to /content\n",
            "100% 1.16G/1.16G [00:11<00:00, 131MB/s]\n",
            "100% 1.16G/1.16G [00:11<00:00, 110MB/s]\n",
            "Downloading test_images.zip to /content\n",
            " 96% 124M/129M [00:00<00:00, 134MB/s]\n",
            "100% 129M/129M [00:01<00:00, 133MB/s]\n"
          ],
          "name": "stdout"
        }
      ]
    },
    {
      "cell_type": "code",
      "metadata": {
        "id": "Fw-RnlxEPjHb",
        "colab_type": "code",
        "colab": {}
      },
      "source": [
        "with ZipFile('/content/train.csv.zip', 'r') as zipRef:\n",
        "  zipRef.extractall('.')\n",
        "  os.remove('/content/train.csv.zip')"
      ],
      "execution_count": 0,
      "outputs": []
    },
    {
      "cell_type": "code",
      "metadata": {
        "id": "aVe-orNLQt1s",
        "colab_type": "code",
        "colab": {}
      },
      "source": [
        "if not os.path.exists('/content/test_images'):\n",
        "  os.mkdir('/content/test_images')\n",
        "with ZipFile('/content/test_images.zip', 'r') as zipRef:\n",
        "  zipRef.extractall('/content/test_images')\n",
        "  os.remove('/content/test_images.zip')"
      ],
      "execution_count": 0,
      "outputs": []
    },
    {
      "cell_type": "code",
      "metadata": {
        "id": "E9GiT_KZQfXi",
        "colab_type": "code",
        "colab": {}
      },
      "source": [
        "if not os.path.exists('/content/train_images'):\n",
        "  os.mkdir('/content/train_images')\n",
        "with ZipFile('/content/train_images.zip', 'r') as zipRef:\n",
        "  zipRef.extractall('/content/train_images')\n",
        "  os.remove('/content/train_images.zip')"
      ],
      "execution_count": 0,
      "outputs": []
    },
    {
      "cell_type": "code",
      "metadata": {
        "id": "l3wZcPitTYx6",
        "colab_type": "code",
        "colab": {}
      },
      "source": [
        "train = pd.read_csv('train.csv')"
      ],
      "execution_count": 0,
      "outputs": []
    },
    {
      "cell_type": "code",
      "metadata": {
        "id": "zEDrMbRHTxZv",
        "colab_type": "code",
        "outputId": "9eeb9c20-1adb-4c0c-d933-23261deaa109",
        "colab": {
          "base_uri": "https://localhost:8080/",
          "height": 195
        }
      },
      "source": [
        "train.head()"
      ],
      "execution_count": 7,
      "outputs": [
        {
          "output_type": "execute_result",
          "data": {
            "text/html": [
              "<div>\n",
              "<style scoped>\n",
              "    .dataframe tbody tr th:only-of-type {\n",
              "        vertical-align: middle;\n",
              "    }\n",
              "\n",
              "    .dataframe tbody tr th {\n",
              "        vertical-align: top;\n",
              "    }\n",
              "\n",
              "    .dataframe thead th {\n",
              "        text-align: right;\n",
              "    }\n",
              "</style>\n",
              "<table border=\"1\" class=\"dataframe\">\n",
              "  <thead>\n",
              "    <tr style=\"text-align: right;\">\n",
              "      <th></th>\n",
              "      <th>ImageId_ClassId</th>\n",
              "      <th>EncodedPixels</th>\n",
              "    </tr>\n",
              "  </thead>\n",
              "  <tbody>\n",
              "    <tr>\n",
              "      <th>0</th>\n",
              "      <td>0002cc93b.jpg_1</td>\n",
              "      <td>29102 12 29346 24 29602 24 29858 24 30114 24 3...</td>\n",
              "    </tr>\n",
              "    <tr>\n",
              "      <th>1</th>\n",
              "      <td>0002cc93b.jpg_2</td>\n",
              "      <td>NaN</td>\n",
              "    </tr>\n",
              "    <tr>\n",
              "      <th>2</th>\n",
              "      <td>0002cc93b.jpg_3</td>\n",
              "      <td>NaN</td>\n",
              "    </tr>\n",
              "    <tr>\n",
              "      <th>3</th>\n",
              "      <td>0002cc93b.jpg_4</td>\n",
              "      <td>NaN</td>\n",
              "    </tr>\n",
              "    <tr>\n",
              "      <th>4</th>\n",
              "      <td>00031f466.jpg_1</td>\n",
              "      <td>NaN</td>\n",
              "    </tr>\n",
              "  </tbody>\n",
              "</table>\n",
              "</div>"
            ],
            "text/plain": [
              "   ImageId_ClassId                                      EncodedPixels\n",
              "0  0002cc93b.jpg_1  29102 12 29346 24 29602 24 29858 24 30114 24 3...\n",
              "1  0002cc93b.jpg_2                                                NaN\n",
              "2  0002cc93b.jpg_3                                                NaN\n",
              "3  0002cc93b.jpg_4                                                NaN\n",
              "4  00031f466.jpg_1                                                NaN"
            ]
          },
          "metadata": {
            "tags": []
          },
          "execution_count": 7
        }
      ]
    },
    {
      "cell_type": "code",
      "metadata": {
        "id": "dEBcrfawT1zT",
        "colab_type": "code",
        "outputId": "845b490f-7cb7-4da7-de47-a38a5a819dac",
        "colab": {
          "base_uri": "https://localhost:8080/",
          "height": 34
        }
      },
      "source": [
        "train.shape"
      ],
      "execution_count": 8,
      "outputs": [
        {
          "output_type": "execute_result",
          "data": {
            "text/plain": [
              "(50272, 2)"
            ]
          },
          "metadata": {
            "tags": []
          },
          "execution_count": 8
        }
      ]
    },
    {
      "cell_type": "code",
      "metadata": {
        "id": "6RGkCk2FT6zs",
        "colab_type": "code",
        "colab": {}
      },
      "source": [
        "train['ImageId'] = train['ImageId_ClassId'].apply(lambda x: x.split('_')[0])\n",
        "train['ClassId'] = train['ImageId_ClassId'].apply(lambda x: x.split('_')[1])\n",
        "train['hasMask'] = ~train['EncodedPixels'].isna()"
      ],
      "execution_count": 0,
      "outputs": []
    },
    {
      "cell_type": "code",
      "metadata": {
        "id": "c493zhX2Uoj1",
        "colab_type": "code",
        "outputId": "9afbc72a-6e3a-4b2d-ecf1-90eea1923d88",
        "colab": {
          "base_uri": "https://localhost:8080/",
          "height": 235
        }
      },
      "source": [
        "print(train.head())"
      ],
      "execution_count": 10,
      "outputs": [
        {
          "output_type": "stream",
          "text": [
            "   ImageId_ClassId                                      EncodedPixels  \\\n",
            "0  0002cc93b.jpg_1  29102 12 29346 24 29602 24 29858 24 30114 24 3...   \n",
            "1  0002cc93b.jpg_2                                                NaN   \n",
            "2  0002cc93b.jpg_3                                                NaN   \n",
            "3  0002cc93b.jpg_4                                                NaN   \n",
            "4  00031f466.jpg_1                                                NaN   \n",
            "\n",
            "         ImageId ClassId  hasMask  \n",
            "0  0002cc93b.jpg       1     True  \n",
            "1  0002cc93b.jpg       2    False  \n",
            "2  0002cc93b.jpg       3    False  \n",
            "3  0002cc93b.jpg       4    False  \n",
            "4  00031f466.jpg       1    False  \n"
          ],
          "name": "stdout"
        }
      ]
    },
    {
      "cell_type": "code",
      "metadata": {
        "id": "2QZkiX0AWV90",
        "colab_type": "code",
        "outputId": "85789a57-98e3-4fab-bbe0-43cb97bcdcb7",
        "colab": {
          "base_uri": "https://localhost:8080/",
          "height": 212
        }
      },
      "source": [
        "mask_count_df = train.groupby('ImageId').agg(np.sum).reset_index()\n",
        "mask_count_df.sort_values('hasMask', ascending=False, inplace=True)\n",
        "print(mask_count_df.shape)\n",
        "mask_count_df.head()"
      ],
      "execution_count": 11,
      "outputs": [
        {
          "output_type": "stream",
          "text": [
            "(12568, 2)\n"
          ],
          "name": "stdout"
        },
        {
          "output_type": "execute_result",
          "data": {
            "text/html": [
              "<div>\n",
              "<style scoped>\n",
              "    .dataframe tbody tr th:only-of-type {\n",
              "        vertical-align: middle;\n",
              "    }\n",
              "\n",
              "    .dataframe tbody tr th {\n",
              "        vertical-align: top;\n",
              "    }\n",
              "\n",
              "    .dataframe thead th {\n",
              "        text-align: right;\n",
              "    }\n",
              "</style>\n",
              "<table border=\"1\" class=\"dataframe\">\n",
              "  <thead>\n",
              "    <tr style=\"text-align: right;\">\n",
              "      <th></th>\n",
              "      <th>ImageId</th>\n",
              "      <th>hasMask</th>\n",
              "    </tr>\n",
              "  </thead>\n",
              "  <tbody>\n",
              "    <tr>\n",
              "      <th>10803</th>\n",
              "      <td>db4867ee8.jpg</td>\n",
              "      <td>3.0</td>\n",
              "    </tr>\n",
              "    <tr>\n",
              "      <th>11776</th>\n",
              "      <td>ef24da2ba.jpg</td>\n",
              "      <td>3.0</td>\n",
              "    </tr>\n",
              "    <tr>\n",
              "      <th>6284</th>\n",
              "      <td>7f30b9c64.jpg</td>\n",
              "      <td>2.0</td>\n",
              "    </tr>\n",
              "    <tr>\n",
              "      <th>9421</th>\n",
              "      <td>bf0c81db6.jpg</td>\n",
              "      <td>2.0</td>\n",
              "    </tr>\n",
              "    <tr>\n",
              "      <th>9615</th>\n",
              "      <td>c314f43f3.jpg</td>\n",
              "      <td>2.0</td>\n",
              "    </tr>\n",
              "  </tbody>\n",
              "</table>\n",
              "</div>"
            ],
            "text/plain": [
              "             ImageId  hasMask\n",
              "10803  db4867ee8.jpg      3.0\n",
              "11776  ef24da2ba.jpg      3.0\n",
              "6284   7f30b9c64.jpg      2.0\n",
              "9421   bf0c81db6.jpg      2.0\n",
              "9615   c314f43f3.jpg      2.0"
            ]
          },
          "metadata": {
            "tags": []
          },
          "execution_count": 11
        }
      ]
    },
    {
      "cell_type": "code",
      "metadata": {
        "id": "76lwT6n3r6iz",
        "colab_type": "code",
        "outputId": "0dfd31bb-4282-431c-deae-825b83effc58",
        "colab": {
          "base_uri": "https://localhost:8080/",
          "height": 195
        }
      },
      "source": [
        "sub_df = pd.read_csv('sample_submission.csv')\n",
        "sub_df['ImageId'] = sub_df['ImageId_ClassId'].apply(lambda x: x.split('_')[0])\n",
        "test_imgs = pd.DataFrame(sub_df['ImageId'].unique(), columns = ['ImageID'])\n",
        "test_imgs.head()"
      ],
      "execution_count": 12,
      "outputs": [
        {
          "output_type": "execute_result",
          "data": {
            "text/html": [
              "<div>\n",
              "<style scoped>\n",
              "    .dataframe tbody tr th:only-of-type {\n",
              "        vertical-align: middle;\n",
              "    }\n",
              "\n",
              "    .dataframe tbody tr th {\n",
              "        vertical-align: top;\n",
              "    }\n",
              "\n",
              "    .dataframe thead th {\n",
              "        text-align: right;\n",
              "    }\n",
              "</style>\n",
              "<table border=\"1\" class=\"dataframe\">\n",
              "  <thead>\n",
              "    <tr style=\"text-align: right;\">\n",
              "      <th></th>\n",
              "      <th>ImageID</th>\n",
              "    </tr>\n",
              "  </thead>\n",
              "  <tbody>\n",
              "    <tr>\n",
              "      <th>0</th>\n",
              "      <td>004f40c73.jpg</td>\n",
              "    </tr>\n",
              "    <tr>\n",
              "      <th>1</th>\n",
              "      <td>006f39c41.jpg</td>\n",
              "    </tr>\n",
              "    <tr>\n",
              "      <th>2</th>\n",
              "      <td>00b7fb703.jpg</td>\n",
              "    </tr>\n",
              "    <tr>\n",
              "      <th>3</th>\n",
              "      <td>00bbcd9af.jpg</td>\n",
              "    </tr>\n",
              "    <tr>\n",
              "      <th>4</th>\n",
              "      <td>0108ce457.jpg</td>\n",
              "    </tr>\n",
              "  </tbody>\n",
              "</table>\n",
              "</div>"
            ],
            "text/plain": [
              "         ImageID\n",
              "0  004f40c73.jpg\n",
              "1  006f39c41.jpg\n",
              "2  00b7fb703.jpg\n",
              "3  00bbcd9af.jpg\n",
              "4  0108ce457.jpg"
            ]
          },
          "metadata": {
            "tags": []
          },
          "execution_count": 12
        }
      ]
    },
    {
      "cell_type": "code",
      "metadata": {
        "id": "xPaZuqesucRV",
        "colab_type": "code",
        "outputId": "07faa721-7017-4d16-f27c-240e5ff00715",
        "colab": {
          "base_uri": "https://localhost:8080/",
          "height": 195
        }
      },
      "source": [
        "non_missing_training_idx = mask_count_df[mask_count_df['hasMask'] > 0]\n",
        "non_missing_training_idx.head()"
      ],
      "execution_count": 13,
      "outputs": [
        {
          "output_type": "execute_result",
          "data": {
            "text/html": [
              "<div>\n",
              "<style scoped>\n",
              "    .dataframe tbody tr th:only-of-type {\n",
              "        vertical-align: middle;\n",
              "    }\n",
              "\n",
              "    .dataframe tbody tr th {\n",
              "        vertical-align: top;\n",
              "    }\n",
              "\n",
              "    .dataframe thead th {\n",
              "        text-align: right;\n",
              "    }\n",
              "</style>\n",
              "<table border=\"1\" class=\"dataframe\">\n",
              "  <thead>\n",
              "    <tr style=\"text-align: right;\">\n",
              "      <th></th>\n",
              "      <th>ImageId</th>\n",
              "      <th>hasMask</th>\n",
              "    </tr>\n",
              "  </thead>\n",
              "  <tbody>\n",
              "    <tr>\n",
              "      <th>10803</th>\n",
              "      <td>db4867ee8.jpg</td>\n",
              "      <td>3.0</td>\n",
              "    </tr>\n",
              "    <tr>\n",
              "      <th>11776</th>\n",
              "      <td>ef24da2ba.jpg</td>\n",
              "      <td>3.0</td>\n",
              "    </tr>\n",
              "    <tr>\n",
              "      <th>6284</th>\n",
              "      <td>7f30b9c64.jpg</td>\n",
              "      <td>2.0</td>\n",
              "    </tr>\n",
              "    <tr>\n",
              "      <th>9421</th>\n",
              "      <td>bf0c81db6.jpg</td>\n",
              "      <td>2.0</td>\n",
              "    </tr>\n",
              "    <tr>\n",
              "      <th>9615</th>\n",
              "      <td>c314f43f3.jpg</td>\n",
              "      <td>2.0</td>\n",
              "    </tr>\n",
              "  </tbody>\n",
              "</table>\n",
              "</div>"
            ],
            "text/plain": [
              "             ImageId  hasMask\n",
              "10803  db4867ee8.jpg      3.0\n",
              "11776  ef24da2ba.jpg      3.0\n",
              "6284   7f30b9c64.jpg      2.0\n",
              "9421   bf0c81db6.jpg      2.0\n",
              "9615   c314f43f3.jpg      2.0"
            ]
          },
          "metadata": {
            "tags": []
          },
          "execution_count": 13
        }
      ]
    },
    {
      "cell_type": "code",
      "metadata": {
        "id": "zKUQ8CLuyCOy",
        "colab_type": "code",
        "colab": {}
      },
      "source": [
        "def load_img(code, base, resize = True):\n",
        "  path = f'{base}/{code}'\n",
        "  img = cv2.imread(path)\n",
        "  img = cv2.cvtColor(img, cv2.BGR2RGB)\n",
        "  if resize:\n",
        "    cv2.resize(img, (256, 256))\n",
        "  return img\n",
        "\n",
        "def validate_path(path):\n",
        "  if not os.path.exists(path):\n",
        "    os.makedirs(path)"
      ],
      "execution_count": 0,
      "outputs": []
    },
    {
      "cell_type": "code",
      "metadata": {
        "id": "-3lItWFWdXyZ",
        "colab_type": "code",
        "outputId": "03e59f00-dd91-4cd5-bee0-f54a75d44b2d",
        "colab": {
          "base_uri": "https://localhost:8080/",
          "height": 34
        }
      },
      "source": [
        "BATCH_SIZE = 64\n",
        "def create_test_gen():\n",
        "  return ImageDataGenerator(1./255).flow_from_dataframe(\n",
        "      test_imgs,\n",
        "      directory = 'test_images',\n",
        "      x_col = 'ImageID',\n",
        "      class_mode = None,\n",
        "      target_size = (256, 256),\n",
        "      batch_size = BATCH_SIZE,\n",
        "      shuffle = False\n",
        "  )\n",
        "\n",
        "test_gen = create_test_gen()"
      ],
      "execution_count": 15,
      "outputs": [
        {
          "output_type": "stream",
          "text": [
            "Found 1801 validated image filenames.\n"
          ],
          "name": "stdout"
        }
      ]
    },
    {
      "cell_type": "markdown",
      "metadata": {
        "id": "JzheoKmU4zYC",
        "colab_type": "text"
      },
      "source": [
        "**Data Generator**"
      ]
    },
    {
      "cell_type": "code",
      "metadata": {
        "id": "vm9u03aDQiZQ",
        "colab_type": "code",
        "colab": {}
      },
      "source": [
        "def mask2rle(img):\n",
        "    '''\n",
        "    img: numpy array, 1 - mask, 0 - background\n",
        "    Returns run length as string formated\n",
        "    '''\n",
        "    pixels= img.T.flatten()\n",
        "    pixels = np.concatenate([[0], pixels, [0]])\n",
        "    runs = np.where(pixels[1:] != pixels[:-1])[0] + 1\n",
        "    runs[1::2] -= runs[::2]\n",
        "    return ' '.join(str(x) for x in runs)\n",
        "\n",
        "def rle2mask(rle, input_shape):\n",
        "    width, height = input_shape[:2]\n",
        "    \n",
        "    mask= np.zeros( width*height ).astype(np.uint8)\n",
        "    \n",
        "    array = np.asarray([int(x) for x in rle.split()])\n",
        "    starts = array[0::2]\n",
        "    lengths = array[1::2]\n",
        "\n",
        "    current_position = 0\n",
        "    for index, start in enumerate(starts):\n",
        "        mask[int(start):int(start+lengths[index])] = 1\n",
        "        current_position += lengths[index]\n",
        "        \n",
        "    return mask.reshape(height, width).T\n",
        "\n",
        "def build_masks(rles, input_shape):\n",
        "    depth = len(rles)\n",
        "    masks = np.zeros((*input_shape, depth))\n",
        "    \n",
        "    for i, rle in enumerate(rles):\n",
        "        if type(rle) is str:\n",
        "            masks[:, :, i] = rle2mask(rle, input_shape)\n",
        "    \n",
        "    return masks\n",
        "\n",
        "def build_rles(masks):\n",
        "    width, height, depth = masks.shape\n",
        "    \n",
        "    rles = [mask2rle(masks[:, :, i])\n",
        "            for i in range(depth)]\n",
        "    \n",
        "    return rles"
      ],
      "execution_count": 0,
      "outputs": []
    },
    {
      "cell_type": "code",
      "metadata": {
        "id": "qEjB94d348fZ",
        "colab_type": "code",
        "colab": {}
      },
      "source": [
        "class DataGenerator(keras.utils.Sequence):\n",
        "  def __init__(self, list_IDs, df, target_df = None, mode = 'fit', base_path = 'train_images', batch_size = 32, dim = (256, 1600), n_channels = 1, \n",
        "               n_classes = 4, random_state = 2019, shuffle = True):\n",
        "    print(\"inside init\")\n",
        "    self.dim = dim\n",
        "    self.batch_size = batch_size \n",
        "    self.df = df\n",
        "    self.mode = mode\n",
        "    self.base_path = base_path\n",
        "    self.target_df = target_df\n",
        "    self.list_IDs = list_IDs\n",
        "    self.n_channels = n_channels\n",
        "    self.n_classes = n_classes\n",
        "    self.shuffle = shuffle\n",
        "    self.random_state = random_state\n",
        "\n",
        "    self.on_epoch_end()\n",
        "\n",
        "  def __len__(self):\n",
        "    print(\"Inside len\")\n",
        "    return int(np.floor(len(self.list_IDs)/ self.batch_size))\n",
        "  \n",
        "  def __getitem__(self, index):\n",
        "    indexes = self.indexes[index*self.batch_size:(index + 1)*self.batch_size]\n",
        "\n",
        "    # Find list of IDs\n",
        "    list_IDs_batch = [self.list_IDs[k] for k in indexes]\n",
        "\n",
        "    X = self.__generate_X(list_IDs_batch)\n",
        "\n",
        "    if self.mode == 'fit':\n",
        "      y = self.__generate_y(list_IDs_batch)\n",
        "      return X,y\n",
        "\n",
        "    elif self.mode == 'predict':\n",
        "      return X\n",
        "\n",
        "    else:\n",
        "      raise AttributeError('The model parameter should be set to \"fit\" or \"predict\"')\n",
        "\n",
        "  def on_epoch_end(self):\n",
        "    self.indexes = np.arange(len(self.list_IDs))\n",
        "    if self.shuffle == True:\n",
        "      np.random.seed(self.random_state)\n",
        "      np.random.shuffle(self.indexes)\n",
        "\n",
        "  def __generate_X(self, list_IDs_batch):\n",
        "    X = np.empty((self.batch_size, *self.dim, self.n_channels))\n",
        "    \n",
        "    for i, ID in enumerate(list_IDs_batch):\n",
        "      im_name = self.df['ImageId'].iloc[ID]\n",
        "      img_path = f\"{self.base_path}/{im_name}\"\n",
        "      img = self.__load_grayscale(img_path)\n",
        "      \n",
        "      X[i,] = img\n",
        "\n",
        "    return X\n",
        "\n",
        "  def __generate_y(self, list_IDs_batch):\n",
        "    y = np.empty((self.batch_size, *self.dim, self.n_classes), dtype=int)\n",
        "    \n",
        "    for i, ID in enumerate(list_IDs_batch):\n",
        "      im_name = self.df['ImageId'].iloc[ID]\n",
        "      image_df = self.target_df[self.target_df['ImageId'] == im_name]\n",
        "      \n",
        "      rles = image_df['EncodedPixels'].values\n",
        "      masks = build_masks(rles, input_shape=self.dim)\n",
        "      \n",
        "      y[i, ] = masks\n",
        "\n",
        "    return y\n",
        "    \n",
        "  def __load_grayscale(self, img_path):\n",
        "    img = cv2.imread(img_path, cv2.IMREAD_GRAYSCALE)\n",
        "    img = img.astype(np.float32) / 255.\n",
        "    img = np.expand_dims(img, axis=-1)\n",
        "\n",
        "    return img\n",
        "\n",
        "  def __load_rgb(self, img_path):\n",
        "    img = cv2.imread(img_path)\n",
        "    img = cv2.cvtColor(img, cv2.COLOR_BGR2RGB)\n",
        "    img = img.astype(np.float32) / 255.\n",
        "\n",
        "    return img"
      ],
      "execution_count": 0,
      "outputs": []
    },
    {
      "cell_type": "code",
      "metadata": {
        "id": "lCh2e7Nla3_B",
        "colab_type": "code",
        "outputId": "63661a8f-75cc-4e81-8d32-e45d9c35f0db",
        "colab": {
          "base_uri": "https://localhost:8080/",
          "height": 50
        }
      },
      "source": [
        "BATCH_SIZE = 16\n",
        "\n",
        "train_idx, val_idx = train_test_split(non_missing_training_idx.index, random_state = 2019, test_size = 0.15)\n",
        "train_generator = DataGenerator(train_idx, df = mask_count_df, target_df = train, batch_size = BATCH_SIZE, n_classes = 4)\n",
        "val_generator = DataGenerator(val_idx, df = mask_count_df, target_df = train, batch_size = BATCH_SIZE, n_classes = 4)"
      ],
      "execution_count": 18,
      "outputs": [
        {
          "output_type": "stream",
          "text": [
            "inside init\n",
            "inside init\n"
          ],
          "name": "stdout"
        }
      ]
    },
    {
      "cell_type": "markdown",
      "metadata": {
        "id": "MF1V2lDodnYK",
        "colab_type": "text"
      },
      "source": [
        "**Model**"
      ]
    },
    {
      "cell_type": "code",
      "metadata": {
        "id": "HwN_y2yydpjJ",
        "colab_type": "code",
        "colab": {}
      },
      "source": [
        "def dice_coeff(y_true, y_pred, smooth = 1):\n",
        "  y_true_f = K.flatten(y_true)\n",
        "  y_pred_f = K.flatten(y_pred)\n",
        "  intersection = K.sum(y_true_f * y_pred_f)\n",
        "  return (2. * intersection + smooth) / (K.sum(y_true_f) + K.sum(y_pred_f) + smooth)"
      ],
      "execution_count": 0,
      "outputs": []
    },
    {
      "cell_type": "code",
      "metadata": {
        "id": "h0KVNa4luf7A",
        "colab_type": "code",
        "colab": {}
      },
      "source": [
        "def build_model(input_shape):\n",
        "  inputs = Input(input_shape)\n",
        "  \n",
        "  c1 = Conv2D(8, (3,3), activation = 'relu', padding = 'same')(inputs)\n",
        "  c1 = Conv2D(8, (3,3), activation = 'relu', padding = 'same')(c1)\n",
        "  p1 = MaxPooling2D((2,2))(c1)\n",
        "\n",
        "  c2 = Conv2D(16, (3,3), activation = 'relu', padding = 'same')(p1)\n",
        "  c2 = Conv2D(16, (3,3), activation = 'relu', padding = 'same')(c2)\n",
        "  p2 = MaxPooling2D((2,2))(c2)\n",
        "\n",
        "  c3 = Conv2D(32, (3,3), activation = 'relu', padding = 'same')(p2)\n",
        "  c3 = Conv2D(32, (3,3), activation = 'relu', padding = 'same')(c3)\n",
        "  p3 = MaxPooling2D((2,2))(c3)\n",
        "\n",
        "  c4 = Conv2D(64, (3,3), activation = 'relu', padding = 'same')(p3)\n",
        "  c4 = Conv2D(64, (3,3), activation = 'relu', padding = 'same')(c4)\n",
        "  p4 = MaxPooling2D((2,2))(c4)\n",
        "\n",
        "  c5 = Conv2D(64, (3,3), activation = 'relu', padding = 'same')(p4)\n",
        "  c5 = Conv2D(64, (3,3), activation = 'relu', padding = 'same')(c5)\n",
        "  p5 = MaxPooling2D((2,2))(c5)\n",
        "\n",
        "  c55 = Conv2D(128, (3,3), activation = 'relu', padding = 'same')(p5)\n",
        "  c55 = Conv2D(128, (3,3), activation = 'relu', padding = 'same')(c55)\n",
        "  \n",
        "  u6 = Conv2DTranspose(64, (2,2), strides = (2,2), padding = 'same')(c55)\n",
        "  u6 = concatenate([u6, c5])\n",
        "  c6 = Conv2D(64, (3,3), activation = 'relu', padding = 'same')(u6)\n",
        "  c6 = Conv2D(64, (3,3), activation = 'relu', padding = 'same')(c6)\n",
        "\n",
        "  u71 = Conv2DTranspose(32, (2,2), strides = (2,2), padding = 'same')(c6)\n",
        "  u71 = concatenate([u71, c4])\n",
        "  c71 = Conv2D(32, (3,3), activation = 'relu', padding = 'same')(u71)\n",
        "  c61 = Conv2D(32, (3,3), activation = 'relu', padding = 'same')(c71)\n",
        "\n",
        "  u7 = Conv2DTranspose(32, (2,2), strides = (2,2), padding = 'same')(c61)\n",
        "  u7 = concatenate([u7, c3])\n",
        "  c7 = Conv2D(32, (3,3), activation = 'relu', padding = 'same')(u7)\n",
        "  c7 = Conv2D(32, (3,3), activation = 'relu', padding = 'same')(c7)\n",
        "\n",
        "  u8 = Conv2DTranspose(16, (2,2), strides = (2,2), padding = 'same')(c7)\n",
        "  u8 = concatenate([u8, c2])\n",
        "  c8 = Conv2D(16, (3,3), activation = 'relu', padding = 'same')(u8)\n",
        "  c8 = Conv2D(16, (3,3), activation = 'relu', padding = 'same')(c8)\n",
        "\n",
        "  u9 = Conv2DTranspose(8, (2,2), strides = (2,2), padding = 'same')(c8)\n",
        "  u9 = concatenate([u9, c1], axis = 3)\n",
        "  c9 = Conv2D(8, (3,3), activation = 'relu', padding = 'same')(u9)\n",
        "  c9 = Conv2D(8, (3,3), activation = 'relu', padding = 'same')(c9)\n",
        "\n",
        "  outputs = Conv2D(4, (1,1), activation = 'sigmoid')(c9)\n",
        "\n",
        "  model = Model(inputs = [inputs], outputs = [outputs])\n",
        "  model.compile(optimizer = 'adam', loss = 'binary_crossentropy', metrics = [dice_coeff])\n",
        "\n",
        "  return model"
      ],
      "execution_count": 0,
      "outputs": []
    },
    {
      "cell_type": "code",
      "metadata": {
        "id": "8UKyiehDLeCC",
        "colab_type": "code",
        "outputId": "68d72d9d-3b8a-4149-8f4f-a693bceb10d5",
        "colab": {
          "base_uri": "https://localhost:8080/",
          "height": 1000
        }
      },
      "source": [
        "model = build_model((256, 1600, 1))\n",
        "model.summary()"
      ],
      "execution_count": 21,
      "outputs": [
        {
          "output_type": "stream",
          "text": [
            "WARNING:tensorflow:From /usr/local/lib/python3.6/dist-packages/keras/backend/tensorflow_backend.py:66: The name tf.get_default_graph is deprecated. Please use tf.compat.v1.get_default_graph instead.\n",
            "\n",
            "WARNING:tensorflow:From /usr/local/lib/python3.6/dist-packages/keras/backend/tensorflow_backend.py:541: The name tf.placeholder is deprecated. Please use tf.compat.v1.placeholder instead.\n",
            "\n",
            "WARNING:tensorflow:From /usr/local/lib/python3.6/dist-packages/keras/backend/tensorflow_backend.py:4432: The name tf.random_uniform is deprecated. Please use tf.random.uniform instead.\n",
            "\n",
            "WARNING:tensorflow:From /usr/local/lib/python3.6/dist-packages/keras/backend/tensorflow_backend.py:4267: The name tf.nn.max_pool is deprecated. Please use tf.nn.max_pool2d instead.\n",
            "\n",
            "WARNING:tensorflow:From /usr/local/lib/python3.6/dist-packages/keras/optimizers.py:793: The name tf.train.Optimizer is deprecated. Please use tf.compat.v1.train.Optimizer instead.\n",
            "\n",
            "WARNING:tensorflow:From /usr/local/lib/python3.6/dist-packages/keras/backend/tensorflow_backend.py:3657: The name tf.log is deprecated. Please use tf.math.log instead.\n",
            "\n",
            "WARNING:tensorflow:From /usr/local/lib/python3.6/dist-packages/tensorflow_core/python/ops/nn_impl.py:183: where (from tensorflow.python.ops.array_ops) is deprecated and will be removed in a future version.\n",
            "Instructions for updating:\n",
            "Use tf.where in 2.0, which has the same broadcast rule as np.where\n",
            "Model: \"model_1\"\n",
            "__________________________________________________________________________________________________\n",
            "Layer (type)                    Output Shape         Param #     Connected to                     \n",
            "==================================================================================================\n",
            "input_1 (InputLayer)            (None, 256, 1600, 1) 0                                            \n",
            "__________________________________________________________________________________________________\n",
            "conv2d_1 (Conv2D)               (None, 256, 1600, 8) 80          input_1[0][0]                    \n",
            "__________________________________________________________________________________________________\n",
            "conv2d_2 (Conv2D)               (None, 256, 1600, 8) 584         conv2d_1[0][0]                   \n",
            "__________________________________________________________________________________________________\n",
            "max_pooling2d_1 (MaxPooling2D)  (None, 128, 800, 8)  0           conv2d_2[0][0]                   \n",
            "__________________________________________________________________________________________________\n",
            "conv2d_3 (Conv2D)               (None, 128, 800, 16) 1168        max_pooling2d_1[0][0]            \n",
            "__________________________________________________________________________________________________\n",
            "conv2d_4 (Conv2D)               (None, 128, 800, 16) 2320        conv2d_3[0][0]                   \n",
            "__________________________________________________________________________________________________\n",
            "max_pooling2d_2 (MaxPooling2D)  (None, 64, 400, 16)  0           conv2d_4[0][0]                   \n",
            "__________________________________________________________________________________________________\n",
            "conv2d_5 (Conv2D)               (None, 64, 400, 32)  4640        max_pooling2d_2[0][0]            \n",
            "__________________________________________________________________________________________________\n",
            "conv2d_6 (Conv2D)               (None, 64, 400, 32)  9248        conv2d_5[0][0]                   \n",
            "__________________________________________________________________________________________________\n",
            "max_pooling2d_3 (MaxPooling2D)  (None, 32, 200, 32)  0           conv2d_6[0][0]                   \n",
            "__________________________________________________________________________________________________\n",
            "conv2d_7 (Conv2D)               (None, 32, 200, 64)  18496       max_pooling2d_3[0][0]            \n",
            "__________________________________________________________________________________________________\n",
            "conv2d_8 (Conv2D)               (None, 32, 200, 64)  36928       conv2d_7[0][0]                   \n",
            "__________________________________________________________________________________________________\n",
            "max_pooling2d_4 (MaxPooling2D)  (None, 16, 100, 64)  0           conv2d_8[0][0]                   \n",
            "__________________________________________________________________________________________________\n",
            "conv2d_9 (Conv2D)               (None, 16, 100, 64)  36928       max_pooling2d_4[0][0]            \n",
            "__________________________________________________________________________________________________\n",
            "conv2d_10 (Conv2D)              (None, 16, 100, 64)  36928       conv2d_9[0][0]                   \n",
            "__________________________________________________________________________________________________\n",
            "max_pooling2d_5 (MaxPooling2D)  (None, 8, 50, 64)    0           conv2d_10[0][0]                  \n",
            "__________________________________________________________________________________________________\n",
            "conv2d_11 (Conv2D)              (None, 8, 50, 128)   73856       max_pooling2d_5[0][0]            \n",
            "__________________________________________________________________________________________________\n",
            "conv2d_12 (Conv2D)              (None, 8, 50, 128)   147584      conv2d_11[0][0]                  \n",
            "__________________________________________________________________________________________________\n",
            "conv2d_transpose_1 (Conv2DTrans (None, 16, 100, 64)  32832       conv2d_12[0][0]                  \n",
            "__________________________________________________________________________________________________\n",
            "concatenate_1 (Concatenate)     (None, 16, 100, 128) 0           conv2d_transpose_1[0][0]         \n",
            "                                                                 conv2d_10[0][0]                  \n",
            "__________________________________________________________________________________________________\n",
            "conv2d_13 (Conv2D)              (None, 16, 100, 64)  73792       concatenate_1[0][0]              \n",
            "__________________________________________________________________________________________________\n",
            "conv2d_14 (Conv2D)              (None, 16, 100, 64)  36928       conv2d_13[0][0]                  \n",
            "__________________________________________________________________________________________________\n",
            "conv2d_transpose_2 (Conv2DTrans (None, 32, 200, 32)  8224        conv2d_14[0][0]                  \n",
            "__________________________________________________________________________________________________\n",
            "concatenate_2 (Concatenate)     (None, 32, 200, 96)  0           conv2d_transpose_2[0][0]         \n",
            "                                                                 conv2d_8[0][0]                   \n",
            "__________________________________________________________________________________________________\n",
            "conv2d_15 (Conv2D)              (None, 32, 200, 32)  27680       concatenate_2[0][0]              \n",
            "__________________________________________________________________________________________________\n",
            "conv2d_16 (Conv2D)              (None, 32, 200, 32)  9248        conv2d_15[0][0]                  \n",
            "__________________________________________________________________________________________________\n",
            "conv2d_transpose_3 (Conv2DTrans (None, 64, 400, 32)  4128        conv2d_16[0][0]                  \n",
            "__________________________________________________________________________________________________\n",
            "concatenate_3 (Concatenate)     (None, 64, 400, 64)  0           conv2d_transpose_3[0][0]         \n",
            "                                                                 conv2d_6[0][0]                   \n",
            "__________________________________________________________________________________________________\n",
            "conv2d_17 (Conv2D)              (None, 64, 400, 32)  18464       concatenate_3[0][0]              \n",
            "__________________________________________________________________________________________________\n",
            "conv2d_18 (Conv2D)              (None, 64, 400, 32)  9248        conv2d_17[0][0]                  \n",
            "__________________________________________________________________________________________________\n",
            "conv2d_transpose_4 (Conv2DTrans (None, 128, 800, 16) 2064        conv2d_18[0][0]                  \n",
            "__________________________________________________________________________________________________\n",
            "concatenate_4 (Concatenate)     (None, 128, 800, 32) 0           conv2d_transpose_4[0][0]         \n",
            "                                                                 conv2d_4[0][0]                   \n",
            "__________________________________________________________________________________________________\n",
            "conv2d_19 (Conv2D)              (None, 128, 800, 16) 4624        concatenate_4[0][0]              \n",
            "__________________________________________________________________________________________________\n",
            "conv2d_20 (Conv2D)              (None, 128, 800, 16) 2320        conv2d_19[0][0]                  \n",
            "__________________________________________________________________________________________________\n",
            "conv2d_transpose_5 (Conv2DTrans (None, 256, 1600, 8) 520         conv2d_20[0][0]                  \n",
            "__________________________________________________________________________________________________\n",
            "concatenate_5 (Concatenate)     (None, 256, 1600, 16 0           conv2d_transpose_5[0][0]         \n",
            "                                                                 conv2d_2[0][0]                   \n",
            "__________________________________________________________________________________________________\n",
            "conv2d_21 (Conv2D)              (None, 256, 1600, 8) 1160        concatenate_5[0][0]              \n",
            "__________________________________________________________________________________________________\n",
            "conv2d_22 (Conv2D)              (None, 256, 1600, 8) 584         conv2d_21[0][0]                  \n",
            "__________________________________________________________________________________________________\n",
            "conv2d_23 (Conv2D)              (None, 256, 1600, 4) 36          conv2d_22[0][0]                  \n",
            "==================================================================================================\n",
            "Total params: 600,612\n",
            "Trainable params: 600,612\n",
            "Non-trainable params: 0\n",
            "__________________________________________________________________________________________________\n"
          ],
          "name": "stdout"
        }
      ]
    },
    {
      "cell_type": "code",
      "metadata": {
        "id": "HLyHQOisF7As",
        "colab_type": "code",
        "outputId": "d6032877-a640-45d6-a78e-988417d3811a",
        "colab": {
          "base_uri": "https://localhost:8080/",
          "height": 490
        }
      },
      "source": [
        "checkpoint = ModelCheckpoint('model.h5', monitor = 'val_loss', verbose = 0, save_best_only = True, save_weights_only = False, mode = 'auto')\n",
        "history = model.fit_generator(train_generator, validation_data = val_generator, callbacks = [checkpoint], use_multiprocessing = False, workers = 1, \n",
        "                              epochs = 10)"
      ],
      "execution_count": 0,
      "outputs": [
        {
          "output_type": "stream",
          "text": [
            "Inside len\n",
            "WARNING:tensorflow:From /usr/local/lib/python3.6/dist-packages/keras/backend/tensorflow_backend.py:1033: The name tf.assign_add is deprecated. Please use tf.compat.v1.assign_add instead.\n",
            "\n",
            "WARNING:tensorflow:From /usr/local/lib/python3.6/dist-packages/keras/backend/tensorflow_backend.py:1020: The name tf.assign is deprecated. Please use tf.compat.v1.assign instead.\n",
            "\n",
            "WARNING:tensorflow:From /usr/local/lib/python3.6/dist-packages/keras/backend/tensorflow_backend.py:3005: The name tf.Session is deprecated. Please use tf.compat.v1.Session instead.\n",
            "\n",
            "Inside len\n",
            "Inside len\n",
            "Inside len\n",
            "Epoch 1/10Inside len\n",
            "\n",
            "WARNING:tensorflow:From /usr/local/lib/python3.6/dist-packages/keras/backend/tensorflow_backend.py:190: The name tf.get_default_session is deprecated. Please use tf.compat.v1.get_default_session instead.\n",
            "\n",
            "WARNING:tensorflow:From /usr/local/lib/python3.6/dist-packages/keras/backend/tensorflow_backend.py:197: The name tf.ConfigProto is deprecated. Please use tf.compat.v1.ConfigProto instead.\n",
            "\n",
            "WARNING:tensorflow:From /usr/local/lib/python3.6/dist-packages/keras/backend/tensorflow_backend.py:207: The name tf.global_variables is deprecated. Please use tf.compat.v1.global_variables instead.\n",
            "\n",
            "WARNING:tensorflow:From /usr/local/lib/python3.6/dist-packages/keras/backend/tensorflow_backend.py:216: The name tf.is_variable_initialized is deprecated. Please use tf.compat.v1.is_variable_initialized instead.\n",
            "\n",
            "WARNING:tensorflow:From /usr/local/lib/python3.6/dist-packages/keras/backend/tensorflow_backend.py:223: The name tf.variables_initializer is deprecated. Please use tf.compat.v1.variables_initializer instead.\n",
            "\n",
            "354/354 [==============================] - 11165s 32s/step - loss: 0.0979 - dice_coeff: 0.0246 - val_loss: 0.0421 - val_dice_coeff: 0.0161\n",
            "Epoch 2/10\n",
            "354/354 [==============================] - 11287s 32s/step - loss: 0.0371 - dice_coeff: 0.0397 - val_loss: 0.0341 - val_dice_coeff: 0.0523\n",
            "Epoch 3/10\n",
            "312/354 [=========================>....] - ETA: 22:21 - loss: 0.0334 - dice_coeff: 0.0723"
          ],
          "name": "stdout"
        }
      ]
    }
  ]
}